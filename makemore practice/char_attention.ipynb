{
 "cells": [
  {
   "cell_type": "code",
   "execution_count": 5,
   "id": "9761f63b-f7b1-443c-a05d-d1a0107159ae",
   "metadata": {},
   "outputs": [],
   "source": [
    "import torch\n",
    "import torch.nn.functional as F\n",
    "import matplotlib.pyplot as plt \n",
    "import random"
   ]
  },
  {
   "cell_type": "code",
   "execution_count": 8,
   "id": "fbb8ac43-38d5-4378-a006-e6f56a189323",
   "metadata": {},
   "outputs": [],
   "source": [
    "from dataclasses import dataclass"
   ]
  },
  {
   "cell_type": "code",
   "execution_count": 10,
   "id": "539d3444-0e98-45e1-9654-d7f51b55ed2b",
   "metadata": {},
   "outputs": [],
   "source": [
    "@dataclass\n",
    "class Config:\n",
    "    x: int = 2"
   ]
  },
  {
   "cell_type": "code",
   "execution_count": 11,
   "id": "d700425e-caf6-489d-9343-88eb82412ff1",
   "metadata": {},
   "outputs": [
    {
     "data": {
      "text/plain": [
       "4"
      ]
     },
     "execution_count": 11,
     "metadata": {},
     "output_type": "execute_result"
    }
   ],
   "source": [
    "Config.x + 2"
   ]
  },
  {
   "cell_type": "code",
   "execution_count": 14,
   "id": "aca859c3-9b93-44bf-9ddb-361730f4d920",
   "metadata": {},
   "outputs": [],
   "source": [
    "names = ['apple', 'banana', 'cherry']\n",
    "chars = sorted(list(set(''.join(names))))\n",
    "stoi = {s:i+1 for i,s in enumerate(chars)}\n",
    "stoi['.'] = 0\n",
    "itos = {i:s for s,i in stoi.items()}"
   ]
  },
  {
   "cell_type": "code",
   "execution_count": 15,
   "id": "14f29b0d-040d-43dc-bb49-72517f55a4f8",
   "metadata": {},
   "outputs": [
    {
     "data": {
      "text/plain": [
       "['apple', 'banana', 'cherry']"
      ]
     },
     "execution_count": 15,
     "metadata": {},
     "output_type": "execute_result"
    }
   ],
   "source": [
    "names"
   ]
  },
  {
   "cell_type": "code",
   "execution_count": 16,
   "id": "581fa7f7-c0d1-4b79-8431-0ce42517d09e",
   "metadata": {},
   "outputs": [],
   "source": [
    "encode = lambda s: [stoi[c] for c in s] \n",
    "decode = lambda l: ''.join([itos[i] for i in l])"
   ]
  },
  {
   "cell_type": "code",
   "execution_count": 27,
   "id": "40076a17-b538-44b7-ad3c-4eb621de267e",
   "metadata": {},
   "outputs": [
    {
     "data": {
      "text/plain": [
       "[0, 0, 0, 1, 8, 8, 6, 4, 0, 0, 0, 2, 1, 7, 1, 7, 1, 0, 0, 0, 3, 5, 4, 9, 9, 10]"
      ]
     },
     "execution_count": 27,
     "metadata": {},
     "output_type": "execute_result"
    }
   ],
   "source": [
    "data = []\n",
    "for w in names:\n",
    "    data = data + ([0]*3) + encode(w)\n",
    "data"
   ]
  },
  {
   "cell_type": "code",
   "execution_count": 55,
   "id": "3aee1237-f203-4832-a1b4-cb12a0def3e3",
   "metadata": {},
   "outputs": [
    {
     "data": {
      "text/plain": [
       "torch.Size([1, 8])"
      ]
     },
     "execution_count": 55,
     "metadata": {},
     "output_type": "execute_result"
    }
   ],
   "source": [
    "name = torch.zeros(1,8)\n",
    "name.shape"
   ]
  },
  {
   "cell_type": "code",
   "execution_count": 56,
   "id": "b1b95977-f2b9-43bc-95c1-ada722ff4851",
   "metadata": {},
   "outputs": [
    {
     "data": {
      "text/plain": [
       "tensor([[0., 0., 0., 0., 0., 0., 0., 0., 3.]])"
      ]
     },
     "execution_count": 56,
     "metadata": {},
     "output_type": "execute_result"
    }
   ],
   "source": [
    "a = 3\n",
    "name = torch.cat((name, torch.tensor([a]).view(1,1)), dim=1)\n",
    "name"
   ]
  },
  {
   "cell_type": "code",
   "execution_count": 52,
   "id": "93e6b7ab-fa19-4f16-9509-b78359dfaefa",
   "metadata": {},
   "outputs": [
    {
     "data": {
      "text/plain": [
       "torch.Size([1, 9])"
      ]
     },
     "execution_count": 52,
     "metadata": {},
     "output_type": "execute_result"
    }
   ],
   "source": [
    "name = torch.cat((name, a),dim=1)\n",
    "name.shape"
   ]
  },
  {
   "cell_type": "code",
   "execution_count": 57,
   "id": "3c4b47f1-cc2b-4bb8-9e3a-5e52ac75ee68",
   "metadata": {},
   "outputs": [
    {
     "data": {
      "text/plain": [
       "tensor([[0., 0., 0., 0., 0., 0., 0., 0., 3.]])"
      ]
     },
     "execution_count": 57,
     "metadata": {},
     "output_type": "execute_result"
    }
   ],
   "source": [
    "name[:,-8:]\n",
    "name"
   ]
  },
  {
   "cell_type": "code",
   "execution_count": 58,
   "id": "85f6e37e-7e75-492d-bb90-01802bb40c3a",
   "metadata": {},
   "outputs": [
    {
     "name": "stdout",
     "output_type": "stream",
     "text": [
      "tensor([1., 1., 1., 1., 1., 1., 1., 1., 1., 1.])\n",
      "tensor([0., 0., 0., 0., 0., 0., 0., 0., 0., 0.])\n"
     ]
    }
   ],
   "source": [
    "x = torch.ones(10)\n",
    "y = torch.zeros(10)\n",
    "data = {'t': x, 'v': y}\n",
    "for k in ['t', 'v']:\n",
    "    print(data[k])"
   ]
  },
  {
   "cell_type": "code",
   "execution_count": 59,
   "id": "1a88bb7d-c3d5-4bb6-a35c-79a99fcff0e3",
   "metadata": {},
   "outputs": [
    {
     "ename": "_IncompleteInputError",
     "evalue": "incomplete input (1168599645.py, line 3)",
     "output_type": "error",
     "traceback": [
      "  \u001b[36mCell\u001b[39m\u001b[36m \u001b[39m\u001b[32mIn[59]\u001b[39m\u001b[32m, line 3\u001b[39m\n\u001b[31m    \u001b[39m\u001b[31mdef __init__(self):\u001b[39m\n                       ^\n\u001b[31m_IncompleteInputError\u001b[39m\u001b[31m:\u001b[39m incomplete input\n"
     ]
    }
   ],
   "source": [
    "import torch.nn as nn\n",
    "class Test(nn.Module):\n",
    "    def __init__(self):\n",
    "        super().__init__()\n",
    "    self.d = nn.ModuleDict(dict(\n",
    "        "
   ]
  },
  {
   "cell_type": "code",
   "execution_count": null,
   "id": "218d77fd-56f2-4132-832a-f579b2b2e5d7",
   "metadata": {},
   "outputs": [],
   "source": []
  }
 ],
 "metadata": {
  "kernelspec": {
   "display_name": "Python 3 (ipykernel)",
   "language": "python",
   "name": "python3"
  },
  "language_info": {
   "codemirror_mode": {
    "name": "ipython",
    "version": 3
   },
   "file_extension": ".py",
   "mimetype": "text/x-python",
   "name": "python",
   "nbconvert_exporter": "python",
   "pygments_lexer": "ipython3",
   "version": "3.13.1"
  }
 },
 "nbformat": 4,
 "nbformat_minor": 5
}
