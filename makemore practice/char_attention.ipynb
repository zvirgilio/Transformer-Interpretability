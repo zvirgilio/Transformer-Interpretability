{
 "cells": [
  {
   "cell_type": "code",
   "execution_count": 5,
   "id": "9761f63b-f7b1-443c-a05d-d1a0107159ae",
   "metadata": {},
   "outputs": [],
   "source": [
    "import torch\n",
    "import torch.nn.functional as F\n",
    "import matplotlib.pyplot as plt \n",
    "import random"
   ]
  },
  {
   "cell_type": "code",
   "execution_count": 8,
   "id": "fbb8ac43-38d5-4378-a006-e6f56a189323",
   "metadata": {},
   "outputs": [],
   "source": [
    "from dataclasses import dataclass"
   ]
  },
  {
   "cell_type": "code",
   "execution_count": 11,
   "id": "73ef2a38-11a3-4c7c-b97a-148eb5869efa",
   "metadata": {},
   "outputs": [],
   "source": [
    "data = ('ABC'*1000).split()\n",
    "c_to_i = {'A':0, 'B':1, 'C':2}\n",
    "i_to_c = {i:c for c,i in c_to_i.items()}"
   ]
  },
  {
   "cell_type": "code",
   "execution_count": 12,
   "id": "1a2ffc9f-d2b8-4312-b620-c4fc0cbcc3a1",
   "metadata": {},
   "outputs": [
    {
     "ename": "TypeError",
     "evalue": "unhashable type: 'list'",
     "output_type": "error",
     "traceback": [
      "\u001b[31m---------------------------------------------------------------------------\u001b[39m",
      "\u001b[31mTypeError\u001b[39m                                 Traceback (most recent call last)",
      "\u001b[36mCell\u001b[39m\u001b[36m \u001b[39m\u001b[32mIn[12]\u001b[39m\u001b[32m, line 1\u001b[39m\n\u001b[32m----> \u001b[39m\u001b[32m1\u001b[39m encoded_data = \u001b[43mc_to_i\u001b[49m\u001b[43m[\u001b[49m\u001b[43mdata\u001b[49m\u001b[43m]\u001b[49m\n\u001b[32m      2\u001b[39m \u001b[38;5;28mprint\u001b[39m(endcoded_data[:\u001b[32m3\u001b[39m])\n",
      "\u001b[31mTypeError\u001b[39m: unhashable type: 'list'"
     ]
    }
   ],
   "source": [
    "def build_data"
   ]
  }
 ],
 "metadata": {
  "kernelspec": {
   "display_name": "Python 3 (ipykernel)",
   "language": "python",
   "name": "python3"
  },
  "language_info": {
   "codemirror_mode": {
    "name": "ipython",
    "version": 3
   },
   "file_extension": ".py",
   "mimetype": "text/x-python",
   "name": "python",
   "nbconvert_exporter": "python",
   "pygments_lexer": "ipython3",
   "version": "3.13.1"
  }
 },
 "nbformat": 4,
 "nbformat_minor": 5
}
